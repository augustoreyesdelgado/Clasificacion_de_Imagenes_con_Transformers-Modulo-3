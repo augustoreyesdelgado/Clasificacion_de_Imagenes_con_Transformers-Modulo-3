{
  "nbformat": 4,
  "nbformat_minor": 0,
  "metadata": {
    "colab": {
      "provenance": []
    },
    "kernelspec": {
      "name": "python3",
      "display_name": "Python 3"
    },
    "language_info": {
      "name": "python"
    }
  },
  "cells": [
    {
      "cell_type": "code",
      "execution_count": null,
      "metadata": {
        "id": "kO_68YfEz6SH"
      },
      "outputs": [],
      "source": [
        "!pip install datasets"
      ]
    },
    {
      "cell_type": "code",
      "source": [
        "# Ruta al archivo ZIP\n",
        "zip_file_path = '/content/mascotasDA.zip'\n",
        "# Carpeta donde quieres descomprimirlo\n",
        "extract_path = '/content/'\n",
        "\n",
        "# Comando para descomprimir\n",
        "!unzip -q \"{zip_file_path}\" -d \"{extract_path}\"\n",
        "\n",
        "print(f\"Archivos descomprimidos en {extract_path}\")"
      ],
      "metadata": {
        "id": "CMzAwyuN08FS"
      },
      "execution_count": null,
      "outputs": []
    },
    {
      "cell_type": "code",
      "source": [
        "from huggingface_hub import notebook_login\n",
        "\n",
        "notebook_login()"
      ],
      "metadata": {
        "id": "zSpHQ8fL0NyY"
      },
      "execution_count": null,
      "outputs": []
    },
    {
      "cell_type": "code",
      "source": [
        "from datasets import load_dataset, DatasetDict\n",
        "\n",
        "# Cargar las divisiones del dataset\n",
        "train_dataset = load_dataset(\"imagefolder\", data_dir=\"/content/mascotasDA\", split=\"train\")\n",
        "val_dataset = load_dataset(\"imagefolder\", data_dir=\"/content/mascotasDA\", split=\"validation\")\n",
        "test_dataset = load_dataset(\"imagefolder\", data_dir=\"/content/mascotasDA\", split=\"test\")\n",
        "\n",
        "# Combinar las divisiones en un DatasetDict\n",
        "dataset = DatasetDict({\n",
        "    'train': train_dataset,\n",
        "    'validation': val_dataset,\n",
        "    'test': test_dataset\n",
        "})\n",
        "\n",
        "# Subir el dataset completo a Hugging Face\n",
        "dataset.push_to_hub(\"AugustoReies/mascotas-DA\") # Recuerden cambiarlo por su cuenta de Hugging Face"
      ],
      "metadata": {
        "id": "eiE8yQSf0RNt"
      },
      "execution_count": null,
      "outputs": []
    }
  ]
}